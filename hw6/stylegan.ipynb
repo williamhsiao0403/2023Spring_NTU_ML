{
 "cells": [
  {
   "attachments": {},
   "cell_type": "markdown",
   "metadata": {},
   "source": [
    "# 只是確定有毒對檔案而已，用了另外的資料集，檔案來源附在reame.txt。\n",
    "# 下面code的地址不會是對的，這是當初在server上跑的地址"
   ]
  },
  {
   "cell_type": "code",
   "execution_count": null,
   "metadata": {},
   "outputs": [],
   "source": [
    "temp_dataset = get_dataset(os.path.join('/home/william/MLHW_6/anime-faces/images'))\n",
    "\n",
    "images = [temp_dataset[i] for i in range(4)]\n",
    "print(len(temp_dataset))\n",
    "grid_img = torchvision.utils.make_grid(images, nrow=4)\n",
    "plt.figure(figsize=(10,10))\n",
    "plt.imshow(grid_img.permute(1, 2, 0))\n",
    "plt.show()"
   ]
  },
  {
   "attachments": {},
   "cell_type": "markdown",
   "metadata": {},
   "source": [
    "# 沒有用attention 也沒有 augmentation\n",
    "# 單純只用stylegan預設的strp = 150000"
   ]
  },
  {
   "cell_type": "code",
   "execution_count": null,
   "metadata": {},
   "outputs": [],
   "source": [
    "!stylegan2_pytorch --data /home/william/MLHW_6/anime-faces/images\n"
   ]
  },
  {
   "cell_type": "code",
   "execution_count": null,
   "metadata": {},
   "outputs": [],
   "source": [
    "!stylegan2_pytorch --generate  --num_generate=1000 --num_image_tiles=1 --results_dir \"./output\""
   ]
  }
 ],
 "metadata": {
  "language_info": {
   "name": "python"
  },
  "orig_nbformat": 4
 },
 "nbformat": 4,
 "nbformat_minor": 2
}
