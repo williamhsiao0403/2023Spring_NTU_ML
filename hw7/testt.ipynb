{
 "cells": [
  {
   "cell_type": "code",
   "execution_count": 1,
   "metadata": {},
   "outputs": [
    {
     "name": "stdout",
     "output_type": "stream",
     "text": [
      "Requirement already satisfied: transformers==4.26.0 in c:\\users\\william_h\\anaconda3\\envs\\hw7\\lib\\site-packages (4.26.0)\n",
      "Requirement already satisfied: numpy>=1.17 in c:\\users\\william_h\\anaconda3\\envs\\hw7\\lib\\site-packages (from transformers==4.26.0) (1.24.3)\n",
      "Requirement already satisfied: pyyaml>=5.1 in c:\\users\\william_h\\anaconda3\\envs\\hw7\\lib\\site-packages (from transformers==4.26.0) (6.0)\n",
      "Requirement already satisfied: requests in c:\\users\\william_h\\anaconda3\\envs\\hw7\\lib\\site-packages (from transformers==4.26.0) (2.28.2)\n",
      "Requirement already satisfied: huggingface-hub<1.0,>=0.11.0 in c:\\users\\william_h\\anaconda3\\envs\\hw7\\lib\\site-packages (from transformers==4.26.0) (0.14.0)\n",
      "Requirement already satisfied: tqdm>=4.27 in c:\\users\\william_h\\anaconda3\\envs\\hw7\\lib\\site-packages (from transformers==4.26.0) (4.65.0)\n",
      "Requirement already satisfied: packaging>=20.0 in c:\\users\\william_h\\anaconda3\\envs\\hw7\\lib\\site-packages (from transformers==4.26.0) (23.1)\n",
      "Requirement already satisfied: regex!=2019.12.17 in c:\\users\\william_h\\anaconda3\\envs\\hw7\\lib\\site-packages (from transformers==4.26.0) (2023.3.23)\n",
      "Requirement already satisfied: filelock in c:\\users\\william_h\\anaconda3\\envs\\hw7\\lib\\site-packages (from transformers==4.26.0) (3.12.0)\n",
      "Requirement already satisfied: tokenizers!=0.11.3,<0.14,>=0.11.1 in c:\\users\\william_h\\anaconda3\\envs\\hw7\\lib\\site-packages (from transformers==4.26.0) (0.13.3)\n",
      "Requirement already satisfied: fsspec in c:\\users\\william_h\\anaconda3\\envs\\hw7\\lib\\site-packages (from huggingface-hub<1.0,>=0.11.0->transformers==4.26.0) (2023.4.0)\n",
      "Requirement already satisfied: typing-extensions>=3.7.4.3 in c:\\users\\william_h\\anaconda3\\envs\\hw7\\lib\\site-packages (from huggingface-hub<1.0,>=0.11.0->transformers==4.26.0) (4.5.0)\n",
      "Requirement already satisfied: colorama in c:\\users\\william_h\\anaconda3\\envs\\hw7\\lib\\site-packages (from tqdm>=4.27->transformers==4.26.0) (0.4.6)\n",
      "Requirement already satisfied: urllib3<1.27,>=1.21.1 in c:\\users\\william_h\\anaconda3\\envs\\hw7\\lib\\site-packages (from requests->transformers==4.26.0) (1.26.15)\n",
      "Requirement already satisfied: certifi>=2017.4.17 in c:\\users\\william_h\\anaconda3\\envs\\hw7\\lib\\site-packages (from requests->transformers==4.26.0) (2022.12.7)\n",
      "Requirement already satisfied: charset-normalizer<4,>=2 in c:\\users\\william_h\\anaconda3\\envs\\hw7\\lib\\site-packages (from requests->transformers==4.26.0) (3.1.0)\n",
      "Requirement already satisfied: idna<4,>=2.5 in c:\\users\\william_h\\anaconda3\\envs\\hw7\\lib\\site-packages (from requests->transformers==4.26.0) (3.4)\n",
      "Collecting accelerate==0.16.0\n",
      "  Using cached accelerate-0.16.0-py3-none-any.whl (199 kB)\n",
      "Requirement already satisfied: torch>=1.4.0 in c:\\users\\william_h\\anaconda3\\envs\\hw7\\lib\\site-packages (from accelerate==0.16.0) (2.0.0)\n",
      "Requirement already satisfied: pyyaml in c:\\users\\william_h\\anaconda3\\envs\\hw7\\lib\\site-packages (from accelerate==0.16.0) (6.0)\n",
      "Requirement already satisfied: packaging>=20.0 in c:\\users\\william_h\\anaconda3\\envs\\hw7\\lib\\site-packages (from accelerate==0.16.0) (23.1)\n",
      "Requirement already satisfied: psutil in c:\\users\\william_h\\anaconda3\\envs\\hw7\\lib\\site-packages (from accelerate==0.16.0) (5.9.5)\n",
      "Requirement already satisfied: numpy>=1.17 in c:\\users\\william_h\\anaconda3\\envs\\hw7\\lib\\site-packages (from accelerate==0.16.0) (1.24.3)\n",
      "Requirement already satisfied: filelock in c:\\users\\william_h\\anaconda3\\envs\\hw7\\lib\\site-packages (from torch>=1.4.0->accelerate==0.16.0) (3.12.0)\n",
      "Requirement already satisfied: typing-extensions in c:\\users\\william_h\\anaconda3\\envs\\hw7\\lib\\site-packages (from torch>=1.4.0->accelerate==0.16.0) (4.5.0)\n",
      "Requirement already satisfied: sympy in c:\\users\\william_h\\anaconda3\\envs\\hw7\\lib\\site-packages (from torch>=1.4.0->accelerate==0.16.0) (1.11.1)\n",
      "Requirement already satisfied: networkx in c:\\users\\william_h\\anaconda3\\envs\\hw7\\lib\\site-packages (from torch>=1.4.0->accelerate==0.16.0) (3.1)\n",
      "Requirement already satisfied: jinja2 in c:\\users\\william_h\\anaconda3\\envs\\hw7\\lib\\site-packages (from torch>=1.4.0->accelerate==0.16.0) (3.1.2)\n",
      "Requirement already satisfied: MarkupSafe>=2.0 in c:\\users\\william_h\\anaconda3\\envs\\hw7\\lib\\site-packages (from jinja2->torch>=1.4.0->accelerate==0.16.0) (2.1.2)\n",
      "Requirement already satisfied: mpmath>=0.19 in c:\\users\\william_h\\anaconda3\\envs\\hw7\\lib\\site-packages (from sympy->torch>=1.4.0->accelerate==0.16.0) (1.3.0)\n",
      "Installing collected packages: accelerate\n",
      "  Attempting uninstall: accelerate\n",
      "    Found existing installation: accelerate 0.2.0\n",
      "    Uninstalling accelerate-0.2.0:\n",
      "      Successfully uninstalled accelerate-0.2.0\n",
      "Successfully installed accelerate-0.16.0\n"
     ]
    }
   ],
   "source": [
    "!pip install transformers==4.26.0\n",
    "!pip install accelerate==0.16.0"
   ]
  },
  {
   "cell_type": "code",
   "execution_count": 2,
   "metadata": {},
   "outputs": [
    {
     "name": "stderr",
     "output_type": "stream",
     "text": [
      "c:\\Users\\william_H\\anaconda3\\envs\\hw7\\lib\\site-packages\\tqdm\\auto.py:21: TqdmWarning: IProgress not found. Please update jupyter and ipywidgets. See https://ipywidgets.readthedocs.io/en/stable/user_install.html\n",
      "  from .autonotebook import tqdm as notebook_tqdm\n"
     ]
    }
   ],
   "source": [
    "import math\n",
    "import json\n",
    "import numpy as np\n",
    "import random\n",
    "import torch\n",
    "from torch.utils.data import DataLoader, Dataset \n",
    "from transformers import AdamW, BertForQuestionAnswering, BertTokenizerFast\n",
    "from transformers import AutoModelForQuestionAnswering, AutoTokenizer\n",
    "from transformers import get_linear_schedule_with_warmup\n",
    "\n",
    "from tqdm.auto import tqdm\n",
    "\n",
    "device = torch.device(\"cuda\", 1) if torch.cuda.is_available() else \"cpu\"\n",
    "\n",
    "# Fix random seed for reproducibility\n",
    "def same_seeds(seed):\n",
    "    torch.manual_seed(seed)\n",
    "    if torch.cuda.is_available():\n",
    "        torch.cuda.manual_seed(seed)\n",
    "        torch.cuda.manual_seed_all(seed)\n",
    "    np.random.seed(seed)\n",
    "    random.seed(seed)\n",
    "    torch.backends.cudnn.benchmark = False\n",
    "    torch.backends.cudnn.deterministic = True\n",
    "same_seeds(7414)"
   ]
  },
  {
   "cell_type": "code",
   "execution_count": 3,
   "metadata": {},
   "outputs": [
    {
     "name": "stdout",
     "output_type": "stream",
     "text": [
      "Collecting accelerate==0.2.0\n",
      "  Using cached accelerate-0.2.0-py3-none-any.whl (47 kB)\n",
      "Requirement already satisfied: torch>=1.4.0 in c:\\users\\william_h\\anaconda3\\envs\\hw7\\lib\\site-packages (from accelerate==0.2.0) (2.0.0)\n",
      "Requirement already satisfied: pyaml>=20.4.0 in c:\\users\\william_h\\anaconda3\\envs\\hw7\\lib\\site-packages (from accelerate==0.2.0) (21.10.1)\n",
      "Requirement already satisfied: PyYAML in c:\\users\\william_h\\anaconda3\\envs\\hw7\\lib\\site-packages (from pyaml>=20.4.0->accelerate==0.2.0) (6.0)\n",
      "Requirement already satisfied: filelock in c:\\users\\william_h\\anaconda3\\envs\\hw7\\lib\\site-packages (from torch>=1.4.0->accelerate==0.2.0) (3.12.0)\n",
      "Requirement already satisfied: typing-extensions in c:\\users\\william_h\\anaconda3\\envs\\hw7\\lib\\site-packages (from torch>=1.4.0->accelerate==0.2.0) (4.5.0)\n",
      "Requirement already satisfied: sympy in c:\\users\\william_h\\anaconda3\\envs\\hw7\\lib\\site-packages (from torch>=1.4.0->accelerate==0.2.0) (1.11.1)\n",
      "Requirement already satisfied: networkx in c:\\users\\william_h\\anaconda3\\envs\\hw7\\lib\\site-packages (from torch>=1.4.0->accelerate==0.2.0) (3.1)\n",
      "Requirement already satisfied: jinja2 in c:\\users\\william_h\\anaconda3\\envs\\hw7\\lib\\site-packages (from torch>=1.4.0->accelerate==0.2.0) (3.1.2)\n",
      "Requirement already satisfied: MarkupSafe>=2.0 in c:\\users\\william_h\\anaconda3\\envs\\hw7\\lib\\site-packages (from jinja2->torch>=1.4.0->accelerate==0.2.0) (2.1.2)\n",
      "Requirement already satisfied: mpmath>=0.19 in c:\\users\\william_h\\anaconda3\\envs\\hw7\\lib\\site-packages (from sympy->torch>=1.4.0->accelerate==0.2.0) (1.3.0)\n",
      "Installing collected packages: accelerate\n",
      "  Attempting uninstall: accelerate\n",
      "    Found existing installation: accelerate 0.16.0\n",
      "    Uninstalling accelerate-0.16.0:\n",
      "      Successfully uninstalled accelerate-0.16.0\n",
      "Successfully installed accelerate-0.2.0\n",
      "Note: you may need to restart the kernel to use updated packages.\n"
     ]
    }
   ],
   "source": [
    "# Change \"fp16_training\" to True to support automatic mixed precision training (fp16)\n",
    "fp16_training = True\n",
    "fp16 = True\n",
    "if fp16_training:\n",
    "    %pip install accelerate==0.2.0\n",
    "    from accelerate import Accelerator\n",
    "    accelerator = Accelerator(fp16)\n",
    "    device = accelerator.device\n",
    "\n",
    "# Documentation for the toolkit:  https://huggingface.co/docs/accelerate/"
   ]
  },
  {
   "cell_type": "code",
   "execution_count": 4,
   "metadata": {},
   "outputs": [],
   "source": [
    "model = AutoModelForQuestionAnswering.from_pretrained(\"luhua/chinese_pretrain_mrc_macbert_large\").to(device)\n",
    "tokenizer = AutoTokenizer.from_pretrained(\"luhua/chinese_pretrain_mrc_macbert_large\")\n",
    "\n",
    "# You can safely ignore the warning message (it pops up because new prediction heads for QA are initialized randomly)"
   ]
  },
  {
   "cell_type": "code",
   "execution_count": 5,
   "metadata": {},
   "outputs": [],
   "source": [
    "def read_data(file):\n",
    "    with open(file, 'r', encoding=\"utf-8\") as reader:\n",
    "        data = json.load(reader)\n",
    "    return data[\"questions\"], data[\"paragraphs\"]\n",
    "\n",
    "train_questions, train_paragraphs = read_data(\"./hw7_train.json\")\n",
    "dev_questions, dev_paragraphs = read_data(\"./hw7_dev.json\")\n",
    "test_questions, test_paragraphs = read_data(\"./hw7_test.json\")"
   ]
  },
  {
   "cell_type": "code",
   "execution_count": 6,
   "metadata": {},
   "outputs": [],
   "source": [
    "# Tokenize questions and paragraphs separately\n",
    "# 「add_special_tokens」 is set to False since special tokens will be added when tokenized questions and paragraphs are combined in datset __getitem__ \n",
    "\n",
    "train_questions_tokenized = tokenizer([train_question[\"question_text\"] for train_question in train_questions], add_special_tokens=False)\n",
    "dev_questions_tokenized = tokenizer([dev_question[\"question_text\"] for dev_question in dev_questions], add_special_tokens=False)\n",
    "test_questions_tokenized = tokenizer([test_question[\"question_text\"] for test_question in test_questions], add_special_tokens=False) \n",
    "\n",
    "train_paragraphs_tokenized = tokenizer(train_paragraphs, add_special_tokens=False)\n",
    "dev_paragraphs_tokenized = tokenizer(dev_paragraphs, add_special_tokens=False)\n",
    "test_paragraphs_tokenized = tokenizer(test_paragraphs, add_special_tokens=False)\n",
    "\n",
    "# You can safely ignore the warning message as tokenized sequences will be futher processed in datset __getitem__ before passing to model"
   ]
  },
  {
   "cell_type": "code",
   "execution_count": 7,
   "metadata": {},
   "outputs": [],
   "source": [
    "DOC_STRIDE = None\n"
   ]
  },
  {
   "cell_type": "code",
   "execution_count": 8,
   "metadata": {},
   "outputs": [],
   "source": [
    "class QA_Dataset(Dataset):\n",
    "    def __init__(self, split, questions, tokenized_questions, tokenized_paragraphs):\n",
    "        self.split = split\n",
    "        self.questions = questions\n",
    "        self.tokenized_questions = tokenized_questions\n",
    "        self.tokenized_paragraphs = tokenized_paragraphs\n",
    "        self.max_question_len = 100\n",
    "        self.max_paragraph_len = 300\n",
    "        \n",
    "        ##### TODO: Change value of doc_stride #####\n",
    "        self.doc_stride = int(0.5 * self.max_paragraph_len)\n",
    "        ############################################\n",
    "        global DOC_STRIDE\n",
    "        DOC_STRIDE = self.doc_stride\n",
    "        ############################################\n",
    "        # Input sequence length = [CLS] + question + [SEP] + paragraph + [SEP]\n",
    "        self.max_seq_len = 1 + self.max_question_len + 1 + self.max_paragraph_len + 1\n",
    "\n",
    "    def __len__(self):\n",
    "        return len(self.questions)\n",
    "\n",
    "    def __getitem__(self, idx):\n",
    "        question = self.questions[idx]\n",
    "        tokenized_question = self.tokenized_questions[idx]\n",
    "        tokenized_paragraph = self.tokenized_paragraphs[question[\"paragraph_id\"]]\n",
    "\n",
    "        ##### TODO: Preprocessing #####\n",
    "        # Hint: How to prevent model from learning something it should not learn\n",
    "\n",
    "        if self.split == \"train\":\n",
    "            # Convert answer's start/end positions in paragraph_text to start/end positions in tokenized_paragraph  \n",
    "            answer_start_token = tokenized_paragraph.char_to_token(question[\"answer_start\"])\n",
    "            answer_end_token = tokenized_paragraph.char_to_token(question[\"answer_end\"])\n",
    "\n",
    "#             # A single window is obtained by slicing the portion of paragraph containing the answer\n",
    "#             mid = (answer_start_token + answer_end_token) // 2\n",
    "#             paragraph_start = max(0, min(mid - self.max_paragraph_len // 2, len(tokenized_paragraph) - self.max_paragraph_len))\n",
    "#             paragraph_end = paragraph_start + self.max_paragraph_len\n",
    "            \n",
    "            # A single window is obtained by slicing the portion of paragraph containing the answer\n",
    "            mid = (answer_start_token + answer_end_token) // 2\n",
    "            prefix_len = int(random.random() * self.max_paragraph_len)\n",
    "            postfix_len = self.max_paragraph_len - prefix_len\n",
    "            paragraph_start, paragraph_end = mid - prefix_len, mid + postfix_len\n",
    "            if paragraph_start < 0:\n",
    "                paragraph_end -= paragraph_start\n",
    "                paragraph_start = 0\n",
    "            if paragraph_end >= len(tokenized_paragraph):\n",
    "                paragraph_end = len(tokenized_paragraph) - 1\n",
    "            \n",
    "            # Slice question/paragraph and add special tokens (101: CLS, 102: SEP)\n",
    "            input_ids_question = [101] + tokenized_question.ids[:self.max_question_len] + [102] \n",
    "            input_ids_paragraph = tokenized_paragraph.ids[paragraph_start : paragraph_end] + [102]\n",
    "            \n",
    "            # Convert answer's start/end positions in tokenized_paragraph to start/end positions in the window  \n",
    "            answer_start_token += len(input_ids_question) - paragraph_start\n",
    "            answer_end_token += len(input_ids_question) - paragraph_start\n",
    "            \n",
    "            # Pad sequence and obtain inputs to model \n",
    "            input_ids, token_type_ids, attention_mask = self.padding(input_ids_question, input_ids_paragraph)\n",
    "            return torch.tensor(input_ids), torch.tensor(token_type_ids), torch.tensor(attention_mask), answer_start_token, answer_end_token\n",
    "\n",
    "        # Validation/Testing\n",
    "        else:\n",
    "            input_ids_list, token_type_ids_list, attention_mask_list = [], [], []\n",
    "            \n",
    "            # Paragraph is split into several windows, each with start positions separated by step \"doc_stride\"\n",
    "            for i in range(0, len(tokenized_paragraph), self.doc_stride):\n",
    "                \n",
    "                # Slice question/paragraph and add special tokens (101: CLS, 102: SEP)\n",
    "                input_ids_question = [101] + tokenized_question.ids[:self.max_question_len] + [102]\n",
    "                input_ids_paragraph = tokenized_paragraph.ids[i : i + self.max_paragraph_len] + [102]\n",
    "                \n",
    "                # Pad sequence and obtain inputs to model\n",
    "                input_ids, token_type_ids, attention_mask = self.padding(input_ids_question, input_ids_paragraph)\n",
    "                \n",
    "                input_ids_list.append(input_ids)\n",
    "                token_type_ids_list.append(token_type_ids)\n",
    "                attention_mask_list.append(attention_mask)\n",
    "            \n",
    "            return torch.tensor(input_ids_list), torch.tensor(token_type_ids_list), torch.tensor(attention_mask_list)\n",
    "\n",
    "    def padding(self, input_ids_question, input_ids_paragraph):\n",
    "        # Pad zeros if sequence length is shorter than max_seq_len\n",
    "        padding_len = self.max_seq_len - len(input_ids_question) - len(input_ids_paragraph)\n",
    "        # Indices of input sequence tokens in the vocabulary\n",
    "        input_ids = input_ids_question + input_ids_paragraph + [0] * padding_len\n",
    "        # Segment token indices to indicate first and second portions of the inputs. Indices are selected in [0, 1]\n",
    "        token_type_ids = [0] * len(input_ids_question) + [1] * len(input_ids_paragraph) + [0] * padding_len\n",
    "        # Mask to avoid performing attention on padding token indices. Mask values selected in [0, 1]\n",
    "        attention_mask = [1] * (len(input_ids_question) + len(input_ids_paragraph)) + [0] * padding_len\n",
    "        \n",
    "        return input_ids, token_type_ids, attention_mask\n",
    "\n",
    "train_set = QA_Dataset(\"train\", train_questions, train_questions_tokenized, train_paragraphs_tokenized)\n",
    "dev_set = QA_Dataset(\"dev\", dev_questions, dev_questions_tokenized, dev_paragraphs_tokenized)\n",
    "test_set = QA_Dataset(\"test\", test_questions, test_questions_tokenized, test_paragraphs_tokenized)\n",
    "\n",
    "train_batch_size = 4\n",
    "\n",
    "# Note: Do NOT change batch size of dev_loader / test_loader !\n",
    "# Although batch size=1, it is actually a batch consisting of several windows from the same QA pair\n",
    "train_loader = DataLoader(train_set, batch_size=train_batch_size, shuffle=True, pin_memory=True)\n",
    "dev_loader = DataLoader(dev_set, batch_size=1, shuffle=False, pin_memory=True)\n",
    "test_loader = DataLoader(test_set, batch_size=1, shuffle=False, pin_memory=True)"
   ]
  },
  {
   "cell_type": "code",
   "execution_count": 9,
   "metadata": {},
   "outputs": [],
   "source": [
    "def evaluate(data, output, paragraph, paragraph_tokenized):\n",
    "    ##### TODO: Postprocessing #####\n",
    "    # There is a bug and room for improvement in postprocessing \n",
    "    # Hint: Open your prediction file to see what is wrong \n",
    "    \n",
    "    answer = ''\n",
    "    max_prob = float('-inf')\n",
    "    num_of_windows = data[0].shape[1]\n",
    "    \n",
    "    paragraph_start_index = 0\n",
    "    paragraph_end_index = 0\n",
    "    \n",
    "    for k in range(num_of_windows):\n",
    "        # Obtain answer by choosing the most probable start position / end position\n",
    "#         start_prob, start_index = torch.max(output.start_logits[k], dim=0)\n",
    "#         end_prob, end_index = torch.max(output.end_logits[k], dim=0)\n",
    "        \n",
    "#         # Probability of answer is calculated as sum of start_prob and end_prob\n",
    "#         prob = start_prob + end_prob\n",
    "\n",
    "        mask = (data[1][0][k].bool() & data[2][0][k].bool()).to(device)\n",
    "    \n",
    "        masked_output_start = torch.masked_select(output.start_logits[k], mask)\n",
    "        masked_output_start = masked_output_start[:-1]\n",
    "        \n",
    "        start_prob, start_index = torch.max(masked_output_start, dim=0)\n",
    "        \n",
    "        masked_output_end = torch.masked_select(output.end_logits[k], mask)\n",
    "        masked_output_end = masked_output_end[start_index: -1]\n",
    "        \n",
    "        end_prob, end_index = torch.max(masked_output_end, dim=0)\n",
    "        \n",
    "        end_index += start_index\n",
    "        \n",
    "        # Probability of answer is calculated as sum of start_prob and end_prob\n",
    "        prob = start_prob + end_prob\n",
    "        masked_data = torch.masked_select(data[0][0][k].to(device), mask)[:-1]\n",
    "        \n",
    "        # Replace answer if calculated probability is larger than previous windows\n",
    "        if (prob > max_prob) and (start_index <= end_index <= (start_index + 50)):\n",
    "            max_prob = prob\n",
    "            paragraph_start_index = start_index.item() + (DOC_STRIDE * k)\n",
    "            paragraph_end_index = end_index.item() + (DOC_STRIDE * k)\n",
    "            # Convert tokens to chars (e.g. [1920, 7032] --> \"大 金\")\n",
    "#             answer = tokenizer.decode(data[0][0][k][start_index : end_index + 1])\n",
    "            answer = tokenizer.decode(masked_data[start_index : end_index + 1])\n",
    "            \n",
    "#     # 轉換 [UNK]        \n",
    "#     if \"[UNK]\" in answer:\n",
    "#         # 原始答案 #\n",
    "#         print(f\"原始答案: {answer}\")\n",
    "#         ##########\n",
    "#         char_count = 0\n",
    "#         start_flag = False\n",
    "\n",
    "#         for i, token in enumerate(paragraph_tokenized):\n",
    "#             if token in ('[UNK]', '[CLS]', '[SEP]'):\n",
    "#                 if i == paragraph_start_index:\n",
    "#                     new_start = char_count\n",
    "#                 if i == paragraph_end_index:\n",
    "#                     new_end = char_count\n",
    "#                 char_count += 1\n",
    "#             else:\n",
    "#                 for char in token:\n",
    "#                     if i == paragraph_start_index and not start_flag:\n",
    "#                         new_start = char_count\n",
    "#                         start_flag = True\n",
    "#                     if i == paragraph_end_index:\n",
    "#                         new_end = char_count\n",
    "#                     if char == \"#\":\n",
    "#                         continue\n",
    "#                     else:\n",
    "#                         while char_count < len(paragraph) and char != paragraph[char_count]:\n",
    "#                             char_count += 1\n",
    "#                         char_count += 1\n",
    "            \n",
    "#         answer = paragraph[new_start: new_end+1]\n",
    "#         print(f\"修正後答案: {answer}\")\n",
    "#         print(paragraph_start_index, paragraph_end_index)\n",
    "#         print(new_start, new_end)\n",
    "#         print(\"-\"*50)\n",
    "\n",
    "    \n",
    "    ##########\n",
    "    char_count = 0\n",
    "    start_flag = False\n",
    "\n",
    "    for i, token in enumerate(paragraph_tokenized):\n",
    "        if token in ('[UNK]', '[CLS]', '[SEP]'):\n",
    "            if i == paragraph_start_index:\n",
    "                new_start = char_count\n",
    "            if i == paragraph_end_index:\n",
    "                new_end = char_count\n",
    "            char_count += 1\n",
    "        else:\n",
    "            for char in token:\n",
    "                if i == paragraph_start_index and not start_flag:\n",
    "                    new_start = char_count\n",
    "                    start_flag = True\n",
    "                if i == paragraph_end_index:\n",
    "                    new_end = char_count\n",
    "                if char == \"#\":\n",
    "                    continue\n",
    "                else:\n",
    "                    while char_count < len(paragraph) and char != paragraph[char_count]:\n",
    "                        char_count += 1\n",
    "                    char_count += 1\n",
    "    # 後處理\n",
    "    # 1.轉換 [UNK]        \n",
    "    if \"[UNK]\" in answer:\n",
    "        # 原始答案 #\n",
    "        print(f\"原始答案: {answer}\")\n",
    "        # 修正後答案 #\n",
    "        answer = paragraph[new_start: new_end+1]\n",
    "        print(f\"修正後答案: {answer}\")\n",
    "        print(\"-\"*50)\n",
    "\n",
    "###########################################################\n",
    "    \n",
    "#     # 2.把沒抓到的引號補回來\n",
    "#     # 尾巴引號漏掉\n",
    "#     if (new_end+1) < len(paragraph):\n",
    "#         if paragraph[new_start] == \"「\" and paragraph[new_end+1] == \"」\":\n",
    "#             answer = paragraph[new_start: new_end+2]\n",
    "#     # 頭尾引號都漏掉\n",
    "#     if new_start > 0 and (new_end+1) < len(paragraph):\n",
    "#         if paragraph[new_start-1] == \"「\" and paragraph[new_end+1] == \"」\":\n",
    "#             answer = paragraph[new_start-1: new_end+2]\n",
    "#     # 尾巴隔一個標點符號才接引號\n",
    "#     if (new_end+2) < len(paragraph):\n",
    "#         if paragraph[new_start] == \"「\" and paragraph[new_end+2] == \"」\":\n",
    "#             answer = paragraph[new_start: new_end+3]\n",
    "#     if new_start > 0 and (new_end+2) < len(paragraph):\n",
    "#         if paragraph[new_start-1] == \"「\" and paragraph[new_end+2] == \"」\":\n",
    "#             answer = paragraph[new_start-1: new_end+3]\n",
    "    \n",
    "#     # 3.把「為了」與「因為」抓回來\n",
    "#     if new_start > 1:\n",
    "#         if paragraph[new_start-2: new_start] == \"為了\":\n",
    "#             answer = paragraph[new_start-2: new_end+1]\n",
    "#         if paragraph[new_start-2: new_start] == \"因為\":\n",
    "#             answer = paragraph[new_start-2: new_end+1]\n",
    "\n",
    "    \n",
    "#     if new_start > 0:\n",
    "#         if paragraph[new_start-1] == \"因\":\n",
    "#             answer = paragraph[new_start-1: new_end+1]\n",
    "\n",
    "###########################################################\n",
    "        \n",
    "    # 最後移除空格 (e.g. \"大 金\" --> \"大金\")\n",
    "    answer = answer.replace(' ', '')\n",
    "    \n",
    "###########################################################\n",
    "\n",
    "#     # 把「為了」與「因為」拿掉\n",
    "#     if len(answer) > 2:\n",
    "#         if answer[:2] == \"為了\" or answer[:2] == \"因為\":\n",
    "#             answer = answer[2:]\n",
    "    \n",
    "#     # 把「」拿掉\n",
    "#     if len(answer) > 2:\n",
    "#         if answer[0] == \"「\" and answer[-1] == \"」\":\n",
    "#             answer = answer[1:-1]\n",
    "    \n",
    "###########################################################\n",
    "\n",
    "    if len(answer) > 1:\n",
    "        if \"「\" not in answer and answer[-1] == \"」\":\n",
    "            answer = answer[:-1]\n",
    "#     if 3 > len(answer) > 1:\n",
    "#         if answer[0] == \"第\":\n",
    "#             i = 1\n",
    "#             while i < len(answer) and answer[i] in list(\"123456789一二三四五六七八九\"):\n",
    "#                 i += 1\n",
    "#             answer = answer[1:i]\n",
    "    \n",
    "    return answer"
   ]
  },
  {
   "cell_type": "code",
   "execution_count": 10,
   "metadata": {},
   "outputs": [
    {
     "name": "stderr",
     "output_type": "stream",
     "text": [
      "c:\\Users\\william_H\\anaconda3\\envs\\hw7\\lib\\site-packages\\transformers\\optimization.py:306: FutureWarning: This implementation of AdamW is deprecated and will be removed in a future version. Use the PyTorch implementation torch.optim.AdamW instead, or set `no_deprecation_warning=True` to disable this warning\n",
      "  warnings.warn(\n"
     ]
    },
    {
     "name": "stdout",
     "output_type": "stream",
     "text": [
      "Start Training ...\n"
     ]
    },
    {
     "name": "stderr",
     "output_type": "stream",
     "text": [
      "  7%|▋         | 498/6730 [05:39<1:09:27,  1.50it/s]"
     ]
    },
    {
     "name": "stdout",
     "output_type": "stream",
     "text": [
      "Epoch 1 | Step 500 | loss = 0.986, acc = 0.666\n"
     ]
    },
    {
     "name": "stderr",
     "output_type": "stream",
     "text": [
      " 15%|█▍        | 998/6730 [11:23<1:04:33,  1.48it/s]"
     ]
    },
    {
     "name": "stdout",
     "output_type": "stream",
     "text": [
      "Epoch 1 | Step 1000 | loss = 0.732, acc = 0.731\n"
     ]
    },
    {
     "name": "stderr",
     "output_type": "stream",
     "text": [
      " 22%|██▏       | 1498/6730 [17:08<59:14,  1.47it/s]  "
     ]
    },
    {
     "name": "stdout",
     "output_type": "stream",
     "text": [
      "Epoch 1 | Step 1500 | loss = 0.651, acc = 0.757\n"
     ]
    },
    {
     "name": "stderr",
     "output_type": "stream",
     "text": [
      " 30%|██▉       | 1998/6730 [22:55<57:10,  1.38it/s]  "
     ]
    },
    {
     "name": "stdout",
     "output_type": "stream",
     "text": [
      "Epoch 1 | Step 2000 | loss = 0.614, acc = 0.764\n"
     ]
    },
    {
     "name": "stderr",
     "output_type": "stream",
     "text": [
      " 37%|███▋      | 2498/6730 [28:50<49:29,  1.43it/s]  "
     ]
    },
    {
     "name": "stdout",
     "output_type": "stream",
     "text": [
      "Epoch 1 | Step 2500 | loss = 0.652, acc = 0.745\n"
     ]
    },
    {
     "name": "stderr",
     "output_type": "stream",
     "text": [
      " 45%|████▍     | 2998/6730 [34:44<43:15,  1.44it/s]  "
     ]
    },
    {
     "name": "stdout",
     "output_type": "stream",
     "text": [
      "Epoch 1 | Step 3000 | loss = 0.610, acc = 0.762\n"
     ]
    },
    {
     "name": "stderr",
     "output_type": "stream",
     "text": [
      " 52%|█████▏    | 3498/6730 [40:44<37:04,  1.45it/s]"
     ]
    },
    {
     "name": "stdout",
     "output_type": "stream",
     "text": [
      "Epoch 1 | Step 3500 | loss = 0.599, acc = 0.767\n"
     ]
    },
    {
     "name": "stderr",
     "output_type": "stream",
     "text": [
      " 59%|█████▉    | 3998/6730 [46:38<30:27,  1.49it/s]"
     ]
    },
    {
     "name": "stdout",
     "output_type": "stream",
     "text": [
      "Epoch 1 | Step 4000 | loss = 0.620, acc = 0.758\n"
     ]
    },
    {
     "name": "stderr",
     "output_type": "stream",
     "text": [
      " 67%|██████▋   | 4498/6730 [52:31<28:34,  1.30it/s]"
     ]
    },
    {
     "name": "stdout",
     "output_type": "stream",
     "text": [
      "Epoch 1 | Step 4500 | loss = 0.633, acc = 0.757\n"
     ]
    },
    {
     "name": "stderr",
     "output_type": "stream",
     "text": [
      " 74%|███████▍  | 4998/6730 [58:24<19:49,  1.46it/s]"
     ]
    },
    {
     "name": "stdout",
     "output_type": "stream",
     "text": [
      "Epoch 1 | Step 5000 | loss = 0.606, acc = 0.762\n"
     ]
    },
    {
     "name": "stderr",
     "output_type": "stream",
     "text": [
      " 82%|████████▏ | 5498/6730 [1:04:04<14:30,  1.42it/s]"
     ]
    },
    {
     "name": "stdout",
     "output_type": "stream",
     "text": [
      "Epoch 1 | Step 5500 | loss = 0.611, acc = 0.768\n"
     ]
    },
    {
     "name": "stderr",
     "output_type": "stream",
     "text": [
      " 89%|████████▉ | 5998/6730 [1:09:44<08:10,  1.49it/s]"
     ]
    },
    {
     "name": "stdout",
     "output_type": "stream",
     "text": [
      "Epoch 1 | Step 6000 | loss = 0.569, acc = 0.758\n"
     ]
    },
    {
     "name": "stderr",
     "output_type": "stream",
     "text": [
      " 97%|█████████▋| 6498/6730 [1:15:23<02:39,  1.46it/s]"
     ]
    },
    {
     "name": "stdout",
     "output_type": "stream",
     "text": [
      "Epoch 1 | Step 6500 | loss = 0.587, acc = 0.770\n"
     ]
    },
    {
     "name": "stderr",
     "output_type": "stream",
     "text": [
      "100%|██████████| 6730/6730 [1:17:59<00:00,  1.44it/s]\n"
     ]
    },
    {
     "name": "stdout",
     "output_type": "stream",
     "text": [
      "Evaluating Dev Set ...\n"
     ]
    },
    {
     "name": "stderr",
     "output_type": "stream",
     "text": [
      " 10%|▉         | 279/2863 [00:47<07:25,  5.80it/s]"
     ]
    },
    {
     "name": "stdout",
     "output_type": "stream",
     "text": [
      "原始答案: [UNK]\n",
      "修正後答案: 鍶\n",
      "--------------------------------------------------\n"
     ]
    },
    {
     "name": "stderr",
     "output_type": "stream",
     "text": [
      " 18%|█▊        | 505/2863 [01:26<07:27,  5.27it/s]"
     ]
    },
    {
     "name": "stdout",
     "output_type": "stream",
     "text": [
      "原始答案: [UNK]\n",
      "修正後答案: A\n",
      "--------------------------------------------------\n"
     ]
    },
    {
     "name": "stderr",
     "output_type": "stream",
     "text": [
      " 31%|███       | 879/2863 [02:31<06:41,  4.95it/s]"
     ]
    },
    {
     "name": "stdout",
     "output_type": "stream",
     "text": [
      "原始答案: [UNK]\n",
      "修正後答案: U\n",
      "--------------------------------------------------\n"
     ]
    },
    {
     "name": "stderr",
     "output_type": "stream",
     "text": [
      " 47%|████▋     | 1355/2863 [03:52<03:38,  6.91it/s]"
     ]
    },
    {
     "name": "stdout",
     "output_type": "stream",
     "text": [
      "原始答案: 1. [UNK]\n",
      "修正後答案: 1.5\n",
      "--------------------------------------------------\n"
     ]
    },
    {
     "name": "stderr",
     "output_type": "stream",
     "text": [
      " 55%|█████▍    | 1573/2863 [04:29<04:35,  4.68it/s]"
     ]
    },
    {
     "name": "stdout",
     "output_type": "stream",
     "text": [
      "原始答案: 東 晉 常 [UNK]\n",
      "修正後答案: 東晉常璩\n",
      "--------------------------------------------------\n"
     ]
    },
    {
     "name": "stderr",
     "output_type": "stream",
     "text": [
      " 62%|██████▏   | 1771/2863 [05:03<03:09,  5.76it/s]"
     ]
    },
    {
     "name": "stdout",
     "output_type": "stream",
     "text": [
      "原始答案: [UNK]\n",
      "修正後答案: Z\n",
      "--------------------------------------------------\n"
     ]
    },
    {
     "name": "stderr",
     "output_type": "stream",
     "text": [
      " 67%|██████▋   | 1920/2863 [05:29<02:40,  5.87it/s]"
     ]
    },
    {
     "name": "stdout",
     "output_type": "stream",
     "text": [
      "原始答案: [UNK] 東 海\n",
      "修正後答案: JR東海\n",
      "--------------------------------------------------\n"
     ]
    },
    {
     "name": "stderr",
     "output_type": "stream",
     "text": [
      " 72%|███████▏  | 2055/2863 [05:52<02:27,  5.49it/s]"
     ]
    },
    {
     "name": "stdout",
     "output_type": "stream",
     "text": [
      "原始答案: 大 衛 · [UNK] · 沃 爾 普\n",
      "修正後答案: 大衛·L·沃爾普\n",
      "--------------------------------------------------\n"
     ]
    },
    {
     "name": "stderr",
     "output_type": "stream",
     "text": [
      " 72%|███████▏  | 2067/2863 [05:54<01:59,  6.65it/s]"
     ]
    },
    {
     "name": "stdout",
     "output_type": "stream",
     "text": [
      "原始答案: [UNK]\n",
      "修正後答案: 1\n",
      "--------------------------------------------------\n"
     ]
    },
    {
     "name": "stderr",
     "output_type": "stream",
     "text": [
      " 86%|████████▌ | 2448/2863 [06:56<01:01,  6.75it/s]"
     ]
    },
    {
     "name": "stdout",
     "output_type": "stream",
     "text": [
      "原始答案: [UNK]\n",
      "修正後答案: 鉰\n",
      "--------------------------------------------------\n"
     ]
    },
    {
     "name": "stderr",
     "output_type": "stream",
     "text": [
      " 88%|████████▊ | 2514/2863 [07:07<01:00,  5.80it/s]"
     ]
    },
    {
     "name": "stdout",
     "output_type": "stream",
     "text": [
      "原始答案: [UNK]\n",
      "修正後答案: 1\n",
      "--------------------------------------------------\n"
     ]
    },
    {
     "name": "stderr",
     "output_type": "stream",
     "text": [
      "100%|██████████| 2863/2863 [08:10<00:00,  5.83it/s]\n"
     ]
    },
    {
     "name": "stdout",
     "output_type": "stream",
     "text": [
      "Validation | Epoch 1 | acc = 0.859\n"
     ]
    },
    {
     "name": "stderr",
     "output_type": "stream",
     "text": [
      "  7%|▋         | 498/6730 [05:56<1:16:22,  1.36it/s]"
     ]
    },
    {
     "name": "stdout",
     "output_type": "stream",
     "text": [
      "Epoch 2 | Step 500 | loss = 0.398, acc = 0.826\n"
     ]
    },
    {
     "name": "stderr",
     "output_type": "stream",
     "text": [
      " 15%|█▍        | 998/6730 [12:25<1:15:56,  1.26it/s]"
     ]
    },
    {
     "name": "stdout",
     "output_type": "stream",
     "text": [
      "Epoch 2 | Step 1000 | loss = 0.394, acc = 0.826\n"
     ]
    },
    {
     "name": "stderr",
     "output_type": "stream",
     "text": [
      " 22%|██▏       | 1498/6730 [18:56<1:04:39,  1.35it/s]"
     ]
    },
    {
     "name": "stdout",
     "output_type": "stream",
     "text": [
      "Epoch 2 | Step 1500 | loss = 0.360, acc = 0.830\n"
     ]
    },
    {
     "name": "stderr",
     "output_type": "stream",
     "text": [
      " 30%|██▉       | 1998/6730 [25:24<1:01:33,  1.28it/s]"
     ]
    },
    {
     "name": "stdout",
     "output_type": "stream",
     "text": [
      "Epoch 2 | Step 2000 | loss = 0.398, acc = 0.819\n"
     ]
    },
    {
     "name": "stderr",
     "output_type": "stream",
     "text": [
      " 37%|███▋      | 2498/6730 [31:55<54:55,  1.28it/s]  "
     ]
    },
    {
     "name": "stdout",
     "output_type": "stream",
     "text": [
      "Epoch 2 | Step 2500 | loss = 0.401, acc = 0.829\n"
     ]
    },
    {
     "name": "stderr",
     "output_type": "stream",
     "text": [
      " 45%|████▍     | 2998/6730 [38:32<49:43,  1.25it/s]  "
     ]
    },
    {
     "name": "stdout",
     "output_type": "stream",
     "text": [
      "Epoch 2 | Step 3000 | loss = 0.340, acc = 0.846\n"
     ]
    },
    {
     "name": "stderr",
     "output_type": "stream",
     "text": [
      " 52%|█████▏    | 3498/6730 [45:06<42:13,  1.28it/s]  "
     ]
    },
    {
     "name": "stdout",
     "output_type": "stream",
     "text": [
      "Epoch 2 | Step 3500 | loss = 0.368, acc = 0.843\n"
     ]
    },
    {
     "name": "stderr",
     "output_type": "stream",
     "text": [
      " 59%|█████▉    | 3998/6730 [51:41<35:57,  1.27it/s]"
     ]
    },
    {
     "name": "stdout",
     "output_type": "stream",
     "text": [
      "Epoch 2 | Step 4000 | loss = 0.399, acc = 0.826\n"
     ]
    },
    {
     "name": "stderr",
     "output_type": "stream",
     "text": [
      " 67%|██████▋   | 4498/6730 [58:17<29:44,  1.25it/s]"
     ]
    },
    {
     "name": "stdout",
     "output_type": "stream",
     "text": [
      "Epoch 2 | Step 4500 | loss = 0.341, acc = 0.847\n"
     ]
    },
    {
     "name": "stderr",
     "output_type": "stream",
     "text": [
      " 74%|███████▍  | 4998/6730 [1:04:51<22:55,  1.26it/s]"
     ]
    },
    {
     "name": "stdout",
     "output_type": "stream",
     "text": [
      "Epoch 2 | Step 5000 | loss = 0.372, acc = 0.837\n"
     ]
    },
    {
     "name": "stderr",
     "output_type": "stream",
     "text": [
      " 82%|████████▏ | 5498/6730 [1:11:21<16:02,  1.28it/s]"
     ]
    },
    {
     "name": "stdout",
     "output_type": "stream",
     "text": [
      "Epoch 2 | Step 5500 | loss = 0.390, acc = 0.840\n"
     ]
    },
    {
     "name": "stderr",
     "output_type": "stream",
     "text": [
      " 89%|████████▉ | 5998/6730 [1:17:52<09:42,  1.26it/s]"
     ]
    },
    {
     "name": "stdout",
     "output_type": "stream",
     "text": [
      "Epoch 2 | Step 6000 | loss = 0.371, acc = 0.839\n"
     ]
    },
    {
     "name": "stderr",
     "output_type": "stream",
     "text": [
      " 97%|█████████▋| 6498/6730 [1:24:20<03:00,  1.28it/s]"
     ]
    },
    {
     "name": "stdout",
     "output_type": "stream",
     "text": [
      "Epoch 2 | Step 6500 | loss = 0.347, acc = 0.845\n"
     ]
    },
    {
     "name": "stderr",
     "output_type": "stream",
     "text": [
      "100%|██████████| 6730/6730 [1:27:20<00:00,  1.28it/s]\n"
     ]
    },
    {
     "name": "stdout",
     "output_type": "stream",
     "text": [
      "Evaluating Dev Set ...\n"
     ]
    },
    {
     "name": "stderr",
     "output_type": "stream",
     "text": [
      " 10%|▉         | 279/2863 [00:55<08:46,  4.90it/s]"
     ]
    },
    {
     "name": "stdout",
     "output_type": "stream",
     "text": [
      "原始答案: [UNK]\n",
      "修正後答案: 鍶\n",
      "--------------------------------------------------\n"
     ]
    },
    {
     "name": "stderr",
     "output_type": "stream",
     "text": [
      " 23%|██▎       | 663/2863 [02:11<07:36,  4.82it/s]"
     ]
    },
    {
     "name": "stdout",
     "output_type": "stream",
     "text": [
      "原始答案: 香 港 仔 中 心 [UNK] ; 西 部 的 財 富 花 園 ， 華 富 村 ， 華 貴 村 ， 數 碼 港 及 田 灣 ; 南 部 鴨 [UNK] 洲 ; 石 排 灣 ， 香 港 仔 水 塘\n",
      "修正後答案: 香港仔中心”;西部的財富花園，華富村，華貴村，數碼港及田灣;南部鴨Cha洲;石排灣，香港仔水塘\n",
      "--------------------------------------------------\n"
     ]
    },
    {
     "name": "stderr",
     "output_type": "stream",
     "text": [
      " 31%|███       | 879/2863 [02:55<07:46,  4.25it/s]"
     ]
    },
    {
     "name": "stdout",
     "output_type": "stream",
     "text": [
      "原始答案: [UNK]\n",
      "修正後答案: U\n",
      "--------------------------------------------------\n"
     ]
    },
    {
     "name": "stderr",
     "output_type": "stream",
     "text": [
      " 47%|████▋     | 1355/2863 [04:28<04:14,  5.93it/s]"
     ]
    },
    {
     "name": "stdout",
     "output_type": "stream",
     "text": [
      "原始答案: 1. [UNK]\n",
      "修正後答案: 1.5\n",
      "--------------------------------------------------\n"
     ]
    },
    {
     "name": "stderr",
     "output_type": "stream",
     "text": [
      " 55%|█████▍    | 1572/2863 [05:11<05:44,  3.75it/s]"
     ]
    },
    {
     "name": "stdout",
     "output_type": "stream",
     "text": [
      "原始答案: 常 [UNK]\n",
      "修正後答案: 常璩\n",
      "--------------------------------------------------\n"
     ]
    },
    {
     "name": "stderr",
     "output_type": "stream",
     "text": [
      " 62%|██████▏   | 1771/2863 [05:50<03:42,  4.90it/s]"
     ]
    },
    {
     "name": "stdout",
     "output_type": "stream",
     "text": [
      "原始答案: [UNK]\n",
      "修正後答案: Z\n",
      "--------------------------------------------------\n"
     ]
    },
    {
     "name": "stderr",
     "output_type": "stream",
     "text": [
      " 67%|██████▋   | 1919/2863 [06:20<02:49,  5.57it/s]"
     ]
    },
    {
     "name": "stdout",
     "output_type": "stream",
     "text": [
      "原始答案: [UNK] 東 海\n",
      "修正後答案: JR東海\n",
      "--------------------------------------------------\n"
     ]
    },
    {
     "name": "stderr",
     "output_type": "stream",
     "text": [
      " 72%|███████▏  | 2055/2863 [06:47<02:55,  4.61it/s]"
     ]
    },
    {
     "name": "stdout",
     "output_type": "stream",
     "text": [
      "原始答案: 大 衛 · [UNK] · 沃 爾 普\n",
      "修正後答案: 大衛·L·沃爾普\n",
      "--------------------------------------------------\n"
     ]
    },
    {
     "name": "stderr",
     "output_type": "stream",
     "text": [
      " 72%|███████▏  | 2067/2863 [06:50<02:21,  5.62it/s]"
     ]
    },
    {
     "name": "stdout",
     "output_type": "stream",
     "text": [
      "原始答案: [UNK]\n",
      "修正後答案: 1\n",
      "--------------------------------------------------\n"
     ]
    },
    {
     "name": "stderr",
     "output_type": "stream",
     "text": [
      " 81%|████████  | 2316/2863 [07:36<01:22,  6.63it/s]"
     ]
    },
    {
     "name": "stdout",
     "output_type": "stream",
     "text": [
      "原始答案: 孔 子 刪 詩 ： 在 [UNK] 史 記 [UNK] 中 看 ， 據 說 古 詩 三 千 ， 孔 子\n",
      "修正後答案: 孔子刪詩：在“史記”中看，據說古詩三千，孔子\n",
      "--------------------------------------------------\n"
     ]
    },
    {
     "name": "stderr",
     "output_type": "stream",
     "text": [
      " 86%|████████▌ | 2448/2863 [08:01<01:08,  6.05it/s]"
     ]
    },
    {
     "name": "stdout",
     "output_type": "stream",
     "text": [
      "原始答案: [UNK]\n",
      "修正後答案: 鉰\n",
      "--------------------------------------------------\n"
     ]
    },
    {
     "name": "stderr",
     "output_type": "stream",
     "text": [
      " 88%|████████▊ | 2514/2863 [08:13<01:08,  5.11it/s]"
     ]
    },
    {
     "name": "stdout",
     "output_type": "stream",
     "text": [
      "原始答案: [UNK]\n",
      "修正後答案: 1\n",
      "--------------------------------------------------\n"
     ]
    },
    {
     "name": "stderr",
     "output_type": "stream",
     "text": [
      "100%|██████████| 2863/2863 [09:21<00:00,  5.10it/s]\n"
     ]
    },
    {
     "name": "stdout",
     "output_type": "stream",
     "text": [
      "Validation | Epoch 2 | acc = 0.903\n"
     ]
    },
    {
     "name": "stderr",
     "output_type": "stream",
     "text": [
      "  7%|▋         | 498/6730 [06:29<1:21:23,  1.28it/s]"
     ]
    },
    {
     "name": "stdout",
     "output_type": "stream",
     "text": [
      "Epoch 3 | Step 500 | loss = 0.251, acc = 0.878\n"
     ]
    },
    {
     "name": "stderr",
     "output_type": "stream",
     "text": [
      " 15%|█▍        | 998/6730 [12:59<1:07:34,  1.41it/s]"
     ]
    },
    {
     "name": "stdout",
     "output_type": "stream",
     "text": [
      "Epoch 3 | Step 1000 | loss = 0.253, acc = 0.882\n"
     ]
    },
    {
     "name": "stderr",
     "output_type": "stream",
     "text": [
      " 22%|██▏       | 1498/6730 [18:44<59:40,  1.46it/s]  "
     ]
    },
    {
     "name": "stdout",
     "output_type": "stream",
     "text": [
      "Epoch 3 | Step 1500 | loss = 0.233, acc = 0.892\n"
     ]
    },
    {
     "name": "stderr",
     "output_type": "stream",
     "text": [
      " 30%|██▉       | 1998/6730 [24:26<54:57,  1.44it/s]  "
     ]
    },
    {
     "name": "stdout",
     "output_type": "stream",
     "text": [
      "Epoch 3 | Step 2000 | loss = 0.247, acc = 0.879\n"
     ]
    },
    {
     "name": "stderr",
     "output_type": "stream",
     "text": [
      " 37%|███▋      | 2498/6730 [30:08<48:12,  1.46it/s]  "
     ]
    },
    {
     "name": "stdout",
     "output_type": "stream",
     "text": [
      "Epoch 3 | Step 2500 | loss = 0.281, acc = 0.871\n"
     ]
    },
    {
     "name": "stderr",
     "output_type": "stream",
     "text": [
      " 45%|████▍     | 2998/6730 [35:50<42:36,  1.46it/s]  "
     ]
    },
    {
     "name": "stdout",
     "output_type": "stream",
     "text": [
      "Epoch 3 | Step 3000 | loss = 0.237, acc = 0.890\n"
     ]
    },
    {
     "name": "stderr",
     "output_type": "stream",
     "text": [
      " 52%|█████▏    | 3498/6730 [41:32<36:48,  1.46it/s]"
     ]
    },
    {
     "name": "stdout",
     "output_type": "stream",
     "text": [
      "Epoch 3 | Step 3500 | loss = 0.246, acc = 0.885\n"
     ]
    },
    {
     "name": "stderr",
     "output_type": "stream",
     "text": [
      " 59%|█████▉    | 3999/6730 [47:15<38:28,  1.18it/s]"
     ]
    },
    {
     "name": "stdout",
     "output_type": "stream",
     "text": [
      "Epoch 3 | Step 4000 | loss = 0.241, acc = 0.877\n"
     ]
    },
    {
     "name": "stderr",
     "output_type": "stream",
     "text": [
      " 67%|██████▋   | 4498/6730 [52:56<25:24,  1.46it/s]"
     ]
    },
    {
     "name": "stdout",
     "output_type": "stream",
     "text": [
      "Epoch 3 | Step 4500 | loss = 0.262, acc = 0.884\n"
     ]
    },
    {
     "name": "stderr",
     "output_type": "stream",
     "text": [
      " 74%|███████▍  | 4999/6730 [58:39<24:23,  1.18it/s]"
     ]
    },
    {
     "name": "stdout",
     "output_type": "stream",
     "text": [
      "Epoch 3 | Step 5000 | loss = 0.235, acc = 0.889\n"
     ]
    },
    {
     "name": "stderr",
     "output_type": "stream",
     "text": [
      " 82%|████████▏ | 5498/6730 [1:04:19<14:04,  1.46it/s]"
     ]
    },
    {
     "name": "stdout",
     "output_type": "stream",
     "text": [
      "Epoch 3 | Step 5500 | loss = 0.214, acc = 0.897\n"
     ]
    },
    {
     "name": "stderr",
     "output_type": "stream",
     "text": [
      " 89%|████████▉ | 5998/6730 [1:10:01<08:19,  1.47it/s]"
     ]
    },
    {
     "name": "stdout",
     "output_type": "stream",
     "text": [
      "Epoch 3 | Step 6000 | loss = 0.229, acc = 0.886\n"
     ]
    },
    {
     "name": "stderr",
     "output_type": "stream",
     "text": [
      " 97%|█████████▋| 6498/6730 [1:15:43<02:37,  1.47it/s]"
     ]
    },
    {
     "name": "stdout",
     "output_type": "stream",
     "text": [
      "Epoch 3 | Step 6500 | loss = 0.216, acc = 0.896\n"
     ]
    },
    {
     "name": "stderr",
     "output_type": "stream",
     "text": [
      "100%|██████████| 6730/6730 [1:18:22<00:00,  1.43it/s]\n"
     ]
    },
    {
     "name": "stdout",
     "output_type": "stream",
     "text": [
      "Evaluating Dev Set ...\n"
     ]
    },
    {
     "name": "stderr",
     "output_type": "stream",
     "text": [
      " 10%|▉         | 279/2863 [00:48<07:34,  5.68it/s]"
     ]
    },
    {
     "name": "stdout",
     "output_type": "stream",
     "text": [
      "原始答案: [UNK]\n",
      "修正後答案: 鍶\n",
      "--------------------------------------------------\n"
     ]
    },
    {
     "name": "stderr",
     "output_type": "stream",
     "text": [
      " 23%|██▎       | 663/2863 [01:55<06:32,  5.60it/s]"
     ]
    },
    {
     "name": "stdout",
     "output_type": "stream",
     "text": [
      "原始答案: 香 港 仔 中 心 [UNK] ; 西 部 的 財 富 花 園 ， 華 富 村 ， 華 貴 村 ， 數 碼 港 及 田 灣 ; 南 部 鴨 [UNK] 洲 ; 石 排 灣 ， 香 港 仔 水 塘\n",
      "修正後答案: 香港仔中心”;西部的財富花園，華富村，華貴村，數碼港及田灣;南部鴨Cha洲;石排灣，香港仔水塘\n",
      "--------------------------------------------------\n"
     ]
    },
    {
     "name": "stderr",
     "output_type": "stream",
     "text": [
      " 31%|███       | 879/2863 [02:33<06:45,  4.90it/s]"
     ]
    },
    {
     "name": "stdout",
     "output_type": "stream",
     "text": [
      "原始答案: [UNK]\n",
      "修正後答案: U\n",
      "--------------------------------------------------\n"
     ]
    },
    {
     "name": "stderr",
     "output_type": "stream",
     "text": [
      " 33%|███▎      | 952/2863 [02:46<05:06,  6.24it/s]"
     ]
    },
    {
     "name": "stdout",
     "output_type": "stream",
     "text": [
      "原始答案: [UNK] 以 下 的 聲 音 對 基 底 膜 的 影 響\n",
      "修正後答案: 500Hz以下的聲音對基底膜的影響\n",
      "--------------------------------------------------\n"
     ]
    },
    {
     "name": "stderr",
     "output_type": "stream",
     "text": [
      " 47%|████▋     | 1355/2863 [03:56<03:41,  6.81it/s]"
     ]
    },
    {
     "name": "stdout",
     "output_type": "stream",
     "text": [
      "原始答案: 1. [UNK]\n",
      "修正後答案: 1.5\n",
      "--------------------------------------------------\n"
     ]
    },
    {
     "name": "stderr",
     "output_type": "stream",
     "text": [
      " 55%|█████▍    | 1573/2863 [04:33<04:38,  4.64it/s]"
     ]
    },
    {
     "name": "stdout",
     "output_type": "stream",
     "text": [
      "原始答案: 常 [UNK]\n",
      "修正後答案: 常璩\n",
      "--------------------------------------------------\n"
     ]
    },
    {
     "name": "stderr",
     "output_type": "stream",
     "text": [
      " 60%|█████▉    | 1715/2863 [04:58<03:38,  5.26it/s]"
     ]
    },
    {
     "name": "stdout",
     "output_type": "stream",
     "text": [
      "原始答案: 晶 體 內 部 的 原 子 排 列 具 有 周 期 性 ， 外 部 具 有 規 則 的 形 狀 ， 例 如 金 剛 石 。 [UNK] [UNK] [UNK] 首 先 提 出 了 晶 體 的 規 則 外 觀 ， 因 為 晶 體\n",
      "修正後答案: 晶體內部的原子排列具有周期性，外部具有規則的形狀，例如金剛石。Rene Rust Ayuyi首先提出了晶體的規則外觀，因為晶體\n",
      "--------------------------------------------------\n"
     ]
    },
    {
     "name": "stderr",
     "output_type": "stream",
     "text": [
      " 61%|██████    | 1746/2863 [05:03<02:56,  6.32it/s]"
     ]
    },
    {
     "name": "stdout",
     "output_type": "stream",
     "text": [
      "原始答案: [UNK]\n",
      "修正後答案: I\n",
      "--------------------------------------------------\n"
     ]
    },
    {
     "name": "stderr",
     "output_type": "stream",
     "text": [
      " 62%|██████▏   | 1771/2863 [05:07<03:13,  5.64it/s]"
     ]
    },
    {
     "name": "stdout",
     "output_type": "stream",
     "text": [
      "原始答案: [UNK]\n",
      "修正後答案: Z\n",
      "--------------------------------------------------\n"
     ]
    },
    {
     "name": "stderr",
     "output_type": "stream",
     "text": [
      " 67%|██████▋   | 1920/2863 [05:33<02:42,  5.80it/s]"
     ]
    },
    {
     "name": "stdout",
     "output_type": "stream",
     "text": [
      "原始答案: [UNK] 東 海\n",
      "修正後答案: JR東海\n",
      "--------------------------------------------------\n"
     ]
    },
    {
     "name": "stderr",
     "output_type": "stream",
     "text": [
      " 72%|███████▏  | 2056/2863 [05:57<02:33,  5.24it/s]"
     ]
    },
    {
     "name": "stdout",
     "output_type": "stream",
     "text": [
      "原始答案: 大 衛 · [UNK] · 沃 爾 普\n",
      "修正後答案: 大衛·L·沃爾普\n",
      "--------------------------------------------------\n"
     ]
    },
    {
     "name": "stderr",
     "output_type": "stream",
     "text": [
      " 72%|███████▏  | 2067/2863 [05:59<02:02,  6.52it/s]"
     ]
    },
    {
     "name": "stdout",
     "output_type": "stream",
     "text": [
      "原始答案: [UNK]\n",
      "修正後答案: 1\n",
      "--------------------------------------------------\n"
     ]
    },
    {
     "name": "stderr",
     "output_type": "stream",
     "text": [
      " 86%|████████▌ | 2448/2863 [07:02<00:58,  7.05it/s]"
     ]
    },
    {
     "name": "stdout",
     "output_type": "stream",
     "text": [
      "原始答案: [UNK]\n",
      "修正後答案: 鉰\n",
      "--------------------------------------------------\n"
     ]
    },
    {
     "name": "stderr",
     "output_type": "stream",
     "text": [
      " 88%|████████▊ | 2514/2863 [07:12<01:01,  5.71it/s]"
     ]
    },
    {
     "name": "stdout",
     "output_type": "stream",
     "text": [
      "原始答案: [UNK]\n",
      "修正後答案: 1\n",
      "--------------------------------------------------\n"
     ]
    },
    {
     "name": "stderr",
     "output_type": "stream",
     "text": [
      "100%|██████████| 2863/2863 [08:12<00:00,  5.81it/s]\n"
     ]
    },
    {
     "name": "stdout",
     "output_type": "stream",
     "text": [
      "Validation | Epoch 3 | acc = 0.914\n",
      "Saving Model ...\n"
     ]
    }
   ],
   "source": [
    "num_epoch = 3  # 3\n",
    "validation = True  # True\n",
    "logging_step = 500\n",
    "learning_rate = 5e-6\n",
    "# accum_iter = 8\n",
    "\n",
    "optimizer = AdamW(model.parameters(), lr=learning_rate)\n",
    "\n",
    "##### TODO: Apply linear learning rate decay #####\n",
    "total_steps = len(train_loader) * num_epoch\n",
    "# warmup_steps = int(0.05 * total_steps)\n",
    "\n",
    "scheduler = get_linear_schedule_with_warmup(optimizer, num_warmup_steps=100, num_training_steps=total_steps)\n",
    "##################################################\n",
    "\n",
    "if fp16_training:\n",
    "    model, optimizer, train_loader = accelerator.prepare(model, optimizer, train_loader) \n",
    "\n",
    "model.train()\n",
    "\n",
    "print(\"Start Training ...\")\n",
    "\n",
    "for epoch in range(num_epoch):\n",
    "    step = 1\n",
    "    train_loss = train_acc = 0\n",
    "    \n",
    "    for batch_idx, data in enumerate(tqdm(train_loader)):\n",
    "        # Load all data into GPU\n",
    "        data = [i.to(device) for i in data]\n",
    "        \n",
    "        # Model inputs: input_ids, token_type_ids, attention_mask, start_positions, end_positions (Note: only \"input_ids\" is mandatory)\n",
    "        # Model outputs: start_logits, end_logits, loss (return when start_positions/end_positions are provided)  \n",
    "        output = model(input_ids=data[0], token_type_ids=data[1], attention_mask=data[2], start_positions=data[3], end_positions=data[4])\n",
    "\n",
    "        # Choose the most probable start position / end position\n",
    "        start_index = torch.argmax(output.start_logits, dim=1)\n",
    "        end_index = torch.argmax(output.end_logits, dim=1)\n",
    "\n",
    "        # Prediction is correct only if both start_index and end_index are correct\n",
    "        train_acc += ((start_index == data[3]) & (end_index == data[4])).float().mean()\n",
    "        train_loss += output.loss\n",
    "\n",
    "        if fp16_training:\n",
    "            accelerator.backward(output.loss)\n",
    "        else:\n",
    "            output.loss.backward()\n",
    "\n",
    "        ##### TODO: Apply linear learning rate decay #####\n",
    "        optimizer.step()\n",
    "        scheduler.step()\n",
    "        optimizer.zero_grad()\n",
    "        step += 1\n",
    "        ##################################################\n",
    "        \n",
    "        # Print training loss and accuracy over past logging step\n",
    "        if step % logging_step == 0:\n",
    "            print(f\"Epoch {epoch + 1} | Step {step} | loss = {train_loss.item() / logging_step:.3f}, acc = {train_acc / logging_step:.3f}\")\n",
    "            train_loss = train_acc = 0\n",
    "            \n",
    "    if validation:\n",
    "        print(\"Evaluating Dev Set ...\")\n",
    "        model.eval()\n",
    "        with torch.no_grad():\n",
    "            dev_acc = 0\n",
    "            for i, data in enumerate(tqdm(dev_loader)):\n",
    "                output = model(input_ids=data[0].squeeze(dim=0).to(device), token_type_ids=data[1].squeeze(dim=0).to(device),\n",
    "                       attention_mask=data[2].squeeze(dim=0).to(device))\n",
    "                # prediction is correct only if answer text exactly matches\n",
    "                dev_acc += evaluate(data, output, dev_paragraphs[dev_questions[i]['paragraph_id']], dev_paragraphs_tokenized[dev_questions[i]['paragraph_id']].tokens) == dev_questions[i][\"answer_text\"]\n",
    "            print(f\"Validation | Epoch {epoch + 1} | acc = {dev_acc / len(dev_loader):.3f}\")\n",
    "        model.train()\n",
    "\n",
    "# Save a model and its configuration file to the directory 「saved_model」 \n",
    "# i.e. there are two files under the direcory 「saved_model」: 「pytorch_model.bin」 and 「config.json」\n",
    "# Saved model can be re-loaded using 「model = BertForQuestionAnswering.from_pretrained(\"saved_model\")」\n",
    "print(\"Saving Model ...\")\n",
    "model_save_dir = \"./testmodel9\" \n",
    "model.save_pretrained(model_save_dir)\n",
    "# part1 - 加速 (有幫助加速) - simple submit\n",
    "    # 991/991 [05:52<00:00, 3.45it/s]\n",
    "    # to\n",
    "    # 991/991 [03:00<00:00, 6.08it/s]\n",
    "\n",
    "    # Epoch 1 | Step 900 | loss = 0.586, acc = 0.748\n",
    "    # Validation | Epoch 1 | acc = 0.509\n",
    "    # to\n",
    "    # Epoch 1 | Step 900 | loss = 0.576, acc = 0.759\n",
    "    # Validation | Epoch 1 | acc = 0.538\n",
    "\n",
    "# part2 - LR Schedule (訓練結果有變好，驗證沒有)\n",
    "    # Validation | Epoch 1 | acc = 0.539\n",
    "    \n",
    "# part3 - doc_stride to 0.5 (變好很多)\n",
    "    # Validation | Epoch 1 | acc = 0.667\n",
    "\n",
    "# part4 - random split training answer window (變好很多)\n",
    "    # Validation | Epoch 1 | acc = 0.733\n",
    "    \n",
    "# part5 - Doc Length from 150 to 300 (好一點點)\n",
    "    # Validation | Epoch 1 | acc = 0.727\n",
    "    \n",
    "# part6 - 換模型\n",
    "    # Validation | Epoch 1 | acc = 0.750"
   ]
  },
  {
   "cell_type": "code",
   "execution_count": 11,
   "metadata": {},
   "outputs": [
    {
     "name": "stdout",
     "output_type": "stream",
     "text": [
      "Evaluating Test Set ...\n"
     ]
    },
    {
     "name": "stderr",
     "output_type": "stream",
     "text": [
      "  2%|▏         | 81/3524 [00:14<08:40,  6.62it/s]"
     ]
    },
    {
     "name": "stdout",
     "output_type": "stream",
     "text": [
      "原始答案: 回 [UNK] 部 落\n",
      "修正後答案: 回鶻部落\n",
      "--------------------------------------------------\n"
     ]
    },
    {
     "name": "stderr",
     "output_type": "stream",
     "text": [
      "  3%|▎         | 97/3524 [00:17<11:33,  4.94it/s]"
     ]
    },
    {
     "name": "stdout",
     "output_type": "stream",
     "text": [
      "原始答案: [UNK]\n",
      "修正後答案: M\n",
      "--------------------------------------------------\n"
     ]
    },
    {
     "name": "stderr",
     "output_type": "stream",
     "text": [
      "  5%|▌         | 184/3524 [00:33<10:38,  5.23it/s]"
     ]
    },
    {
     "name": "stdout",
     "output_type": "stream",
     "text": [
      "原始答案: 回 [UNK] 汗 國\n",
      "修正後答案: 回鶻汗國\n",
      "--------------------------------------------------\n"
     ]
    },
    {
     "name": "stderr",
     "output_type": "stream",
     "text": [
      "  6%|▌         | 217/3524 [00:38<08:48,  6.26it/s]"
     ]
    },
    {
     "name": "stdout",
     "output_type": "stream",
     "text": [
      "原始答案: 白 [UNK] 紀 中 期\n",
      "修正後答案: 白堊紀中期\n",
      "--------------------------------------------------\n"
     ]
    },
    {
     "name": "stderr",
     "output_type": "stream",
     "text": [
      "  7%|▋         | 244/3524 [00:44<10:56,  5.00it/s]"
     ]
    },
    {
     "name": "stdout",
     "output_type": "stream",
     "text": [
      "原始答案: [UNK] 大 壩\n",
      "修正後答案: Jawa大壩\n",
      "--------------------------------------------------\n"
     ]
    },
    {
     "name": "stderr",
     "output_type": "stream",
     "text": [
      " 10%|▉         | 342/3524 [01:02<08:10,  6.49it/s]"
     ]
    },
    {
     "name": "stdout",
     "output_type": "stream",
     "text": [
      "原始答案: [UNK]\n",
      "修正後答案: A\n",
      "--------------------------------------------------\n"
     ]
    },
    {
     "name": "stderr",
     "output_type": "stream",
     "text": [
      " 13%|█▎        | 475/3524 [01:26<10:26,  4.87it/s]"
     ]
    },
    {
     "name": "stdout",
     "output_type": "stream",
     "text": [
      "原始答案: [UNK]\n",
      "修正後答案: K\n",
      "--------------------------------------------------\n"
     ]
    },
    {
     "name": "stderr",
     "output_type": "stream",
     "text": [
      " 16%|█▌        | 560/3524 [01:41<08:27,  5.84it/s]"
     ]
    },
    {
     "name": "stdout",
     "output_type": "stream",
     "text": [
      "原始答案: 李 [UNK]\n",
      "修正後答案: 李勣\n",
      "--------------------------------------------------\n"
     ]
    },
    {
     "name": "stderr",
     "output_type": "stream",
     "text": [
      " 17%|█▋        | 598/3524 [01:48<07:06,  6.87it/s]"
     ]
    },
    {
     "name": "stdout",
     "output_type": "stream",
     "text": [
      "原始答案: 約 為 太 陽 的 100 [UNK] 150 倍\n",
      "修正後答案: 約為太陽的100–150倍\n",
      "--------------------------------------------------\n"
     ]
    },
    {
     "name": "stderr",
     "output_type": "stream",
     "text": [
      " 27%|██▋       | 963/3524 [02:56<05:53,  7.24it/s]"
     ]
    },
    {
     "name": "stdout",
     "output_type": "stream",
     "text": [
      "原始答案: [UNK]\n",
      "修正後答案: A\n",
      "--------------------------------------------------\n"
     ]
    },
    {
     "name": "stderr",
     "output_type": "stream",
     "text": [
      " 28%|██▊       | 974/3524 [02:58<08:06,  5.25it/s]"
     ]
    },
    {
     "name": "stdout",
     "output_type": "stream",
     "text": [
      "原始答案: 因 周 王 是 燕 王 同 母 兄 弟 ， 而 朱 允 [UNK] 怕 他 與 燕 王 呵 成 一 氣\n",
      "修正後答案: 因周王是燕王同母兄弟，而朱允炆怕他與燕王呵成一氣\n",
      "--------------------------------------------------\n"
     ]
    },
    {
     "name": "stderr",
     "output_type": "stream",
     "text": [
      " 28%|██▊       | 999/3524 [03:02<07:10,  5.87it/s]"
     ]
    },
    {
     "name": "stdout",
     "output_type": "stream",
     "text": [
      "原始答案: 久 彌 宮 妃 [UNK] 子\n",
      "修正後答案: 久彌宮妃俔子\n",
      "--------------------------------------------------\n"
     ]
    },
    {
     "name": "stderr",
     "output_type": "stream",
     "text": [
      " 29%|██▊       | 1007/3524 [03:04<07:17,  5.76it/s]"
     ]
    },
    {
     "name": "stdout",
     "output_type": "stream",
     "text": [
      "原始答案: 《 阿 [UNK] 婆 吠 陀 》\n",
      "修正後答案: 《阿闥婆吠陀》\n",
      "--------------------------------------------------\n"
     ]
    },
    {
     "name": "stderr",
     "output_type": "stream",
     "text": [
      " 31%|███       | 1079/3524 [03:17<05:53,  6.92it/s]"
     ]
    },
    {
     "name": "stdout",
     "output_type": "stream",
     "text": [
      "原始答案: 姚 [UNK]\n",
      "修正後答案: 姚萇\n",
      "--------------------------------------------------\n"
     ]
    },
    {
     "name": "stderr",
     "output_type": "stream",
     "text": [
      " 33%|███▎      | 1152/3524 [03:30<07:26,  5.31it/s]"
     ]
    },
    {
     "name": "stdout",
     "output_type": "stream",
     "text": [
      "原始答案: [UNK] - 850 型\n",
      "修正後答案: TR-850型\n",
      "--------------------------------------------------\n"
     ]
    },
    {
     "name": "stderr",
     "output_type": "stream",
     "text": [
      " 34%|███▍      | 1200/3524 [03:38<06:48,  5.69it/s]"
     ]
    },
    {
     "name": "stdout",
     "output_type": "stream",
     "text": [
      "原始答案: [UNK] [UNK] 自 動 步 槍 系 列\n",
      "修正後答案: HK G3自動步槍系列\n",
      "--------------------------------------------------\n"
     ]
    },
    {
     "name": "stderr",
     "output_type": "stream",
     "text": [
      " 35%|███▍      | 1229/3524 [03:43<06:50,  5.59it/s]"
     ]
    },
    {
     "name": "stdout",
     "output_type": "stream",
     "text": [
      "原始答案: 導 入 人 工 智 慧 化 的 新 世 代 [UNK] 系 統\n",
      "修正後答案: 導入人工智慧化的新世代BRT系統\n",
      "--------------------------------------------------\n"
     ]
    },
    {
     "name": "stderr",
     "output_type": "stream",
     "text": [
      " 37%|███▋      | 1298/3524 [03:55<06:19,  5.87it/s]"
     ]
    },
    {
     "name": "stdout",
     "output_type": "stream",
     "text": [
      "原始答案: [UNK] 水 之 戰\n",
      "修正後答案: 淝水之戰\n",
      "--------------------------------------------------\n"
     ]
    },
    {
     "name": "stderr",
     "output_type": "stream",
     "text": [
      " 39%|███▉      | 1385/3524 [04:10<05:19,  6.69it/s]"
     ]
    },
    {
     "name": "stdout",
     "output_type": "stream",
     "text": [
      "原始答案: 金 [UNK]\n",
      "修正後答案: 金堉\n",
      "--------------------------------------------------\n"
     ]
    },
    {
     "name": "stderr",
     "output_type": "stream",
     "text": [
      " 39%|███▉      | 1388/3524 [04:10<06:00,  5.93it/s]"
     ]
    },
    {
     "name": "stdout",
     "output_type": "stream",
     "text": [
      "原始答案: 《 [UNK] 早 餐 》\n",
      "修正後答案: 《BBC早餐》\n",
      "--------------------------------------------------\n"
     ]
    },
    {
     "name": "stderr",
     "output_type": "stream",
     "text": [
      " 41%|████      | 1438/3524 [04:19<04:51,  7.16it/s]"
     ]
    },
    {
     "name": "stdout",
     "output_type": "stream",
     "text": [
      "原始答案: 白 [UNK] 紀\n",
      "修正後答案: 白堊紀\n",
      "--------------------------------------------------\n"
     ]
    },
    {
     "name": "stderr",
     "output_type": "stream",
     "text": [
      " 44%|████▍     | 1546/3524 [04:38<05:50,  5.65it/s]"
     ]
    },
    {
     "name": "stdout",
     "output_type": "stream",
     "text": [
      "原始答案: 測 試 [UNK] [UNK] 村 附 近 男 性 居 民 的 脫 氧 核 糖 核 酸\n",
      "修正後答案: 測試驪靬村附近男性居民的脫氧核糖核酸\n",
      "--------------------------------------------------\n"
     ]
    },
    {
     "name": "stderr",
     "output_type": "stream",
     "text": [
      " 57%|█████▋    | 2017/3524 [06:04<05:11,  4.84it/s]"
     ]
    },
    {
     "name": "stdout",
     "output_type": "stream",
     "text": [
      "原始答案: 本 田 [UNK] 型 機 動 腳 踏 車\n",
      "修正後答案: 本田A型機動腳踏車\n",
      "--------------------------------------------------\n"
     ]
    },
    {
     "name": "stderr",
     "output_type": "stream",
     "text": [
      " 61%|██████    | 2134/3524 [06:26<03:57,  5.86it/s]"
     ]
    },
    {
     "name": "stdout",
     "output_type": "stream",
     "text": [
      "原始答案: 美 國 長 [UNK] 米\n",
      "修正後答案: 美國長秈米\n",
      "--------------------------------------------------\n"
     ]
    },
    {
     "name": "stderr",
     "output_type": "stream",
     "text": [
      " 68%|██████▊   | 2391/3524 [07:12<03:13,  5.85it/s]"
     ]
    },
    {
     "name": "stdout",
     "output_type": "stream",
     "text": [
      "原始答案: [UNK] 族\n",
      "修正後答案: 撣族\n",
      "--------------------------------------------------\n"
     ]
    },
    {
     "name": "stderr",
     "output_type": "stream",
     "text": [
      " 70%|███████   | 2482/3524 [07:28<03:20,  5.19it/s]"
     ]
    },
    {
     "name": "stdout",
     "output_type": "stream",
     "text": [
      "原始答案: [UNK] 娛 樂\n",
      "修正後答案: LOEN娛樂\n",
      "--------------------------------------------------\n"
     ]
    },
    {
     "name": "stderr",
     "output_type": "stream",
     "text": [
      " 72%|███████▏  | 2554/3524 [07:40<02:49,  5.71it/s]"
     ]
    },
    {
     "name": "stdout",
     "output_type": "stream",
     "text": [
      "原始答案: 恭 親 王 奕 [UNK]\n",
      "修正後答案: 恭親王奕訢\n",
      "--------------------------------------------------\n"
     ]
    },
    {
     "name": "stderr",
     "output_type": "stream",
     "text": [
      " 75%|███████▌  | 2647/3524 [07:57<02:44,  5.33it/s]"
     ]
    },
    {
     "name": "stdout",
     "output_type": "stream",
     "text": [
      "原始答案: 蔡 [UNK]\n",
      "修正後答案: 蔡鍔\n",
      "--------------------------------------------------\n"
     ]
    },
    {
     "name": "stderr",
     "output_type": "stream",
     "text": [
      " 76%|███████▋  | 2690/3524 [08:05<02:07,  6.52it/s]"
     ]
    },
    {
     "name": "stdout",
     "output_type": "stream",
     "text": [
      "原始答案: [UNK] - 61 戰 鬥 機\n",
      "修正後答案: P-61戰鬥機\n",
      "--------------------------------------------------\n"
     ]
    },
    {
     "name": "stderr",
     "output_type": "stream",
     "text": [
      " 82%|████████▏ | 2906/3524 [08:43<01:39,  6.24it/s]"
     ]
    },
    {
     "name": "stdout",
     "output_type": "stream",
     "text": [
      "原始答案: 白 [UNK] 紀\n",
      "修正後答案: 白堊紀\n",
      "--------------------------------------------------\n"
     ]
    },
    {
     "name": "stderr",
     "output_type": "stream",
     "text": [
      " 83%|████████▎ | 2913/3524 [08:44<02:01,  5.01it/s]"
     ]
    },
    {
     "name": "stdout",
     "output_type": "stream",
     "text": [
      "原始答案: 「 [UNK] 獎 」\n",
      "修正後答案: 「Harvey獎」\n",
      "--------------------------------------------------\n"
     ]
    },
    {
     "name": "stderr",
     "output_type": "stream",
     "text": [
      " 85%|████████▌ | 3011/3524 [09:01<01:39,  5.13it/s]"
     ]
    },
    {
     "name": "stdout",
     "output_type": "stream",
     "text": [
      "原始答案: 大 肚 平 埔 族 拍 布 拉 族 大 肚 王 與 瑯 [UNK] 番 人 的 反 抗\n",
      "修正後答案: 大肚平埔族拍布拉族大肚王與瑯嶠番人的反抗\n",
      "--------------------------------------------------\n"
     ]
    },
    {
     "name": "stderr",
     "output_type": "stream",
     "text": [
      " 89%|████████▉ | 3131/3524 [09:22<01:11,  5.50it/s]"
     ]
    },
    {
     "name": "stdout",
     "output_type": "stream",
     "text": [
      "原始答案: 《 阿 [UNK] 婆 吠 陀 》\n",
      "修正後答案: 《阿闥婆吠陀》\n",
      "--------------------------------------------------\n"
     ]
    },
    {
     "name": "stderr",
     "output_type": "stream",
     "text": [
      " 92%|█████████▏| 3237/3524 [09:41<00:49,  5.81it/s]"
     ]
    },
    {
     "name": "stdout",
     "output_type": "stream",
     "text": [
      "原始答案: 朱 允 [UNK]\n",
      "修正後答案: 朱允炆\n",
      "--------------------------------------------------\n"
     ]
    },
    {
     "name": "stderr",
     "output_type": "stream",
     "text": [
      " 93%|█████████▎| 3287/3524 [09:51<00:47,  4.98it/s]"
     ]
    },
    {
     "name": "stdout",
     "output_type": "stream",
     "text": [
      "原始答案: [UNK] - 16 戰 鬥 機\n",
      "修正後答案: F-16戰鬥機\n",
      "--------------------------------------------------\n"
     ]
    },
    {
     "name": "stderr",
     "output_type": "stream",
     "text": [
      " 95%|█████████▌| 3353/3524 [10:02<00:27,  6.13it/s]"
     ]
    },
    {
     "name": "stdout",
     "output_type": "stream",
     "text": [
      "原始答案: 盤 [UNK] 蠻\n",
      "修正後答案: 盤瓠蠻\n",
      "--------------------------------------------------\n"
     ]
    },
    {
     "name": "stderr",
     "output_type": "stream",
     "text": [
      " 97%|█████████▋| 3408/3524 [10:12<00:18,  6.15it/s]"
     ]
    },
    {
     "name": "stdout",
     "output_type": "stream",
     "text": [
      "原始答案: [UNK] 靼\n",
      "修正後答案: 韃靼\n",
      "--------------------------------------------------\n"
     ]
    },
    {
     "name": "stderr",
     "output_type": "stream",
     "text": [
      " 98%|█████████▊| 3440/3524 [10:18<00:12,  6.49it/s]"
     ]
    },
    {
     "name": "stdout",
     "output_type": "stream",
     "text": [
      "原始答案: [UNK]. [UNK]. [UNK]. [UNK]\n",
      "修正後答案: T.C.B.S\n",
      "--------------------------------------------------\n"
     ]
    },
    {
     "name": "stderr",
     "output_type": "stream",
     "text": [
      " 98%|█████████▊| 3444/3524 [10:18<00:12,  6.17it/s]"
     ]
    },
    {
     "name": "stdout",
     "output_type": "stream",
     "text": [
      "原始答案: 3000 [UNK] 顆\n",
      "修正後答案: 3000垓顆\n",
      "--------------------------------------------------\n"
     ]
    },
    {
     "name": "stderr",
     "output_type": "stream",
     "text": [
      " 99%|█████████▊| 3477/3524 [10:24<00:06,  6.78it/s]"
     ]
    },
    {
     "name": "stdout",
     "output_type": "stream",
     "text": [
      "原始答案: 趙 [UNK]\n",
      "修正後答案: 趙竑\n",
      "--------------------------------------------------\n"
     ]
    },
    {
     "name": "stderr",
     "output_type": "stream",
     "text": [
      " 99%|█████████▉| 3480/3524 [10:25<00:07,  5.79it/s]"
     ]
    },
    {
     "name": "stdout",
     "output_type": "stream",
     "text": [
      "原始答案: 512 [UNK]\n",
      "修正後答案: 512 \n",
      "--------------------------------------------------\n"
     ]
    },
    {
     "name": "stderr",
     "output_type": "stream",
     "text": [
      "100%|██████████| 3524/3524 [10:32<00:00,  5.57it/s]"
     ]
    },
    {
     "name": "stdout",
     "output_type": "stream",
     "text": [
      "Completed! Result is in ./testresult9.csv\n"
     ]
    },
    {
     "name": "stderr",
     "output_type": "stream",
     "text": [
      "\n"
     ]
    }
   ],
   "source": [
    "print(\"Evaluating Test Set ...\")\n",
    "\n",
    "result = []\n",
    "\n",
    "model.eval()\n",
    "with torch.no_grad():\n",
    "    for i, data in enumerate(tqdm(test_loader)):\n",
    "        output = model(input_ids=data[0].squeeze(dim=0).to(device), token_type_ids=data[1].squeeze(dim=0).to(device),\n",
    "                       attention_mask=data[2].squeeze(dim=0).to(device))\n",
    "        result.append(evaluate(data, output, test_paragraphs[test_questions[i]['paragraph_id']], test_paragraphs_tokenized[test_questions[i]['paragraph_id']].tokens))\n",
    "\n",
    "result_file = \"./testresult9.csv\"\n",
    "with open(result_file, 'w') as f:\n",
    "    f.write(\"ID,Answer\\n\")\n",
    "    for i, test_question in enumerate(test_questions):\n",
    "        # Replace commas in answers with empty strings (since csv is separated by comma)\n",
    "        # Answers in kaggle are processed in the same way\n",
    "        f.write(f\"{test_question['id']},{result[i].replace(',','')}\\n\")\n",
    "\n",
    "print(f\"Completed! Result is in {result_file}\")"
   ]
  }
 ],
 "metadata": {
  "kernelspec": {
   "display_name": "hw5",
   "language": "python",
   "name": "python3"
  },
  "language_info": {
   "codemirror_mode": {
    "name": "ipython",
    "version": 3
   },
   "file_extension": ".py",
   "mimetype": "text/x-python",
   "name": "python",
   "nbconvert_exporter": "python",
   "pygments_lexer": "ipython3",
   "version": "3.9.16"
  },
  "orig_nbformat": 4
 },
 "nbformat": 4,
 "nbformat_minor": 2
}
